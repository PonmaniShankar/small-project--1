{
 "cells": [
  {
   "cell_type": "code",
   "execution_count": 4,
   "id": "0b87ac2d-b920-4350-9790-7cf6d301ef7c",
   "metadata": {},
   "outputs": [],
   "source": [
    "def pat_name():\n",
    "    while True:\n",
    "        name = input(\"Enter the Name - \")\n",
    "        if name.isdigit() == True:\n",
    "            print('Numbers not allowed')\n",
    "        else:\n",
    "            break\n",
    "    return name"
   ]
  },
  {
   "cell_type": "code",
   "execution_count": 5,
   "id": "02f43c1b-7ada-4ee6-8901-ee08c6f618d0",
   "metadata": {},
   "outputs": [],
   "source": [
    "def pat_age():\n",
    "    age =\"w\"\n",
    "    while age.isdigit() == False:\n",
    "        age = input(\"enter the age - \")\n",
    "        if age.isdigit() == False:\n",
    "            print(\"Enter the age in Correct form\")\n",
    "        else:\n",
    "            pass\n",
    "    return int(age)"
   ]
  },
  {
   "cell_type": "code",
   "execution_count": 8,
   "id": "821b8425-6e76-44a7-88d8-3a4582837c43",
   "metadata": {},
   "outputs": [
    {
     "name": "stdin",
     "output_type": "stream",
     "text": [
      "Enter the Name -  Shankar\n",
      "enter the age -  29\n"
     ]
    },
    {
     "name": "stdout",
     "output_type": "stream",
     "text": [
      " Name of the patient  = Shankar\n",
      "Age of the patient  = 29\n"
     ]
    }
   ],
   "source": [
    "name = pat_name()\n",
    "age = pat_age()\n",
    "print(f' Name of the patient  = {name}')\n",
    "print(f'Age of the patient  = {age}')"
   ]
  },
  {
   "cell_type": "code",
   "execution_count": null,
   "id": "5d17f951-e802-4f96-bad7-dc7cca91f3b3",
   "metadata": {},
   "outputs": [],
   "source": []
  }
 ],
 "metadata": {
  "kernelspec": {
   "display_name": "Python 3 (ipykernel)",
   "language": "python",
   "name": "python3"
  },
  "language_info": {
   "codemirror_mode": {
    "name": "ipython",
    "version": 3
   },
   "file_extension": ".py",
   "mimetype": "text/x-python",
   "name": "python",
   "nbconvert_exporter": "python",
   "pygments_lexer": "ipython3",
   "version": "3.11.7"
  }
 },
 "nbformat": 4,
 "nbformat_minor": 5
}
