{
 "cells": [
  {
   "cell_type": "markdown",
   "id": "eb280a66-a126-470e-89b9-d4249b7251dd",
   "metadata": {},
   "source": [
    "Mini Project about self OP card\n"
   ]
  },
  {
   "cell_type": "code",
   "execution_count": 1,
   "id": "0b87ac2d-b920-4350-9790-7cf6d301ef7c",
   "metadata": {},
   "outputs": [],
   "source": [
    "def pat_name():\n",
    "    while True:\n",
    "        name = input(\"Enter the Name - \").strip()\n",
    "        if not all(ent.isalpha() or ent.isspace() for ent in name):\n",
    "            print('Numbers and special characters are not allowed')\n",
    "        else:\n",
    "            return name.title()"
   ]
  },
  {
   "cell_type": "code",
   "execution_count": 6,
   "id": "02f43c1b-7ada-4ee6-8901-ee08c6f618d0",
   "metadata": {},
   "outputs": [],
   "source": [
    "def pat_age():\n",
    "    age =\"w\"\n",
    "    while age.isdigit() == False:\n",
    "        age = input(\"enter the age - \")\n",
    "        if age.isdigit() == False:\n",
    "            print(\"Enter the age in Correct form\")\n",
    "        else:\n",
    "            return int(age)"
   ]
  },
  {
   "cell_type": "code",
   "execution_count": 7,
   "id": "6962db5f-8484-45e9-9805-1fefd0150660",
   "metadata": {},
   "outputs": [
    {
     "name": "stdin",
     "output_type": "stream",
     "text": [
      "Enter the Name -  Shankar\n",
      "enter the age -  29\n"
     ]
    },
    {
     "name": "stdout",
     "output_type": "stream",
     "text": [
      "Name of the patient - Shankar\n",
      "age of the patient - 29\n"
     ]
    }
   ],
   "source": [
    "name = pat_name()\n",
    "age = pat_age()\n",
    "print(f'Name of the patient - {name}')\n",
    "print(f'age of the patient - {age}')"
   ]
  },
  {
   "cell_type": "code",
   "execution_count": null,
   "id": "783de911-23fa-4ed9-a2c4-8b30d2dcde08",
   "metadata": {},
   "outputs": [],
   "source": []
  }
 ],
 "metadata": {
  "kernelspec": {
   "display_name": "Python 3 (ipykernel)",
   "language": "python",
   "name": "python3"
  },
  "language_info": {
   "codemirror_mode": {
    "name": "ipython",
    "version": 3
   },
   "file_extension": ".py",
   "mimetype": "text/x-python",
   "name": "python",
   "nbconvert_exporter": "python",
   "pygments_lexer": "ipython3",
   "version": "3.11.7"
  }
 },
 "nbformat": 4,
 "nbformat_minor": 5
}
