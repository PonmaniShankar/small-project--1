{
 "cells": [
  {
   "cell_type": "code",
   "execution_count": 6,
   "id": "0b87ac2d-b920-4350-9790-7cf6d301ef7c",
   "metadata": {},
   "outputs": [],
   "source": [
    "def pat_name():\n",
    "    while True:\n",
    "        name = input(\"Enter the Name - \")\n",
    "        if name.isdigit() == True:\n",
    "            print('Numbers not allowed')\n",
    "        else:\n",
    "            pass\n",
    "    return name"
   ]
  },
  {
   "cell_type": "code",
   "execution_count": 7,
   "id": "02f43c1b-7ada-4ee6-8901-ee08c6f618d0",
   "metadata": {},
   "outputs": [],
   "source": [
    "def pat_age():\n",
    "    age =\"w\"\n",
    "    while age.isdigit() == False:\n",
    "        age = input(\"enter the age - \")\n",
    "        if age.isdigit() == False:\n",
    "            print(\"Enter the age in Correct form\")\n",
    "        else:\n",
    "            pass\n",
    "    return int(age)"
   ]
  },
  {
   "cell_type": "code",
   "execution_count": 9,
   "id": "3057cd3a-c8a8-457e-bac5-67b8913accb2",
   "metadata": {},
   "outputs": [
    {
     "name": "stdin",
     "output_type": "stream",
     "text": [
      "Enter the Name -  s1\n",
      "enter the age -  s+\n"
     ]
    },
    {
     "name": "stdout",
     "output_type": "stream",
     "text": [
      "Enter the age in Correct form\n"
     ]
    },
    {
     "name": "stdin",
     "output_type": "stream",
     "text": [
      "enter the age -  4s\n"
     ]
    },
    {
     "name": "stdout",
     "output_type": "stream",
     "text": [
      "Enter the age in Correct form\n"
     ]
    },
    {
     "name": "stdin",
     "output_type": "stream",
     "text": [
      "enter the age -  4d\n"
     ]
    },
    {
     "name": "stdout",
     "output_type": "stream",
     "text": [
      "Enter the age in Correct form\n"
     ]
    },
    {
     "name": "stdin",
     "output_type": "stream",
     "text": [
      "enter the age -  d4\n"
     ]
    },
    {
     "name": "stdout",
     "output_type": "stream",
     "text": [
      "Enter the age in Correct form\n"
     ]
    },
    {
     "name": "stdin",
     "output_type": "stream",
     "text": [
      "enter the age -  4\n"
     ]
    },
    {
     "name": "stdout",
     "output_type": "stream",
     "text": [
      " Name of the patient s1\n",
      "Age of the patient 4\n"
     ]
    }
   ],
   "source": [
    "name = pat_name()\n",
    "age = pat_age()\n",
    "print(f' Name of the patient {name}')\n",
    "print(f'Age of the patient {age}')"
   ]
  },
  {
   "cell_type": "markdown",
   "id": "d5e78238-cb93-46a1-9b9b-dbbb266fd5f4",
   "metadata": {},
   "source": []
  }
 ],
 "metadata": {
  "kernelspec": {
   "display_name": "Python 3 (ipykernel)",
   "language": "python",
   "name": "python3"
  },
  "language_info": {
   "codemirror_mode": {
    "name": "ipython",
    "version": 3
   },
   "file_extension": ".py",
   "mimetype": "text/x-python",
   "name": "python",
   "nbconvert_exporter": "python",
   "pygments_lexer": "ipython3",
   "version": "3.11.7"
  }
 },
 "nbformat": 4,
 "nbformat_minor": 5
}
